{
  "nbformat": 4,
  "nbformat_minor": 0,
  "metadata": {
    "colab": {
      "name": "TP.NLP.ECI2019.ipynb",
      "version": "0.3.2",
      "provenance": []
    },
    "kernelspec": {
      "name": "python3",
      "display_name": "Python 3"
    }
  },
  "cells": [
    {
      "cell_type": "markdown",
      "metadata": {
        "id": "PacchH8WRx-Y",
        "colab_type": "text"
      },
      "source": [
        "> TP SNLI ECI *2019*\n",
        "En el presente trabajo practico se enfoca en el procesamiento del lenguaje natural mediante la libreria fasttext que facilita la clasificacion de palabras. Modificando el el archivo read_data.py se tomo la informacion proveniente de los archivos.jason correpondientes a las oraciones, y los labels de los archivos.csv para formar el dataset de entrenamiento y prueba (dev) en archivos.txt asi como las lista de oraciones del test. Se entreno la red usando el archivo dataset.txt generado a partir de los archivos de training y luego se utilizo la red ya entrenada para hacer prediciones sobre las oraciones de test. FInalmente se uso el script generate_answer.py para general el .csv final.\n",
        "\n",
        "\n",
        "\n"
      ]
    },
    {
      "cell_type": "code",
      "metadata": {
        "id": "dbGWGILTvaet",
        "colab_type": "code",
        "colab": {}
      },
      "source": [
        "!wget https://github.com/facebookresearch/fastText/archive/v0.9.1.zip\n",
        "!unzip v0.9.1.zip\n",
        "%cd fastText-0.9.1\n",
        "!make\n"
      ],
      "execution_count": 0,
      "outputs": []
    },
    {
      "cell_type": "code",
      "metadata": {
        "id": "aEXuL-H3PU_n",
        "colab_type": "code",
        "colab": {
          "base_uri": "https://localhost:8080/",
          "height": 34
        },
        "outputId": "9218a823-2444-4995-d1eb-23b98c6c13ec"
      },
      "source": [
        "! wc dataset.txt"
      ],
      "execution_count": 10,
      "outputs": [
        {
          "output_type": "stream",
          "text": [
            "  335225  2818191 19922944 dataset.txt\n"
          ],
          "name": "stdout"
        }
      ]
    },
    {
      "cell_type": "code",
      "metadata": {
        "id": "7kUjoHVwTktk",
        "colab_type": "code",
        "colab": {}
      },
      "source": [
        "!head -n 335225 dataset.txt > trainingData\n",
        "!head -n 9842 dev.txt > validationData"
      ],
      "execution_count": 0,
      "outputs": []
    },
    {
      "cell_type": "code",
      "metadata": {
        "id": "Eut1s0AnSsEI",
        "colab_type": "code",
        "colab": {
          "base_uri": "https://localhost:8080/",
          "height": 85
        },
        "outputId": "da33381f-5137-4b71-831b-4ba83d3039cd"
      },
      "source": [
        "!./fasttext supervised -input trainingData.preprocessed -output model_data\n"
      ],
      "execution_count": 18,
      "outputs": [
        {
          "output_type": "stream",
          "text": [
            "\rRead 1M words\rRead 2M words\rRead 3M words\rRead 3M words\n",
            "Number of words:  25876\n",
            "Number of labels: 3\n",
            "Progress: 100.0% words/sec/thread:  366506 lr:  0.000000 loss:  0.848019 ETA:   0h 0m\n"
          ],
          "name": "stdout"
        }
      ]
    },
    {
      "cell_type": "code",
      "metadata": {
        "id": "ohGoLcbGTsY8",
        "colab_type": "code",
        "colab": {
          "base_uri": "https://localhost:8080/",
          "height": 85
        },
        "outputId": "f78c7e5f-4c94-4e46-a420-710e2d3fd46e"
      },
      "source": [
        "!./fasttext supervised -input trainingData -output model_dataFull -epoch 35 -wordNgrams 1 -lr 0.25"
      ],
      "execution_count": 140,
      "outputs": [
        {
          "output_type": "stream",
          "text": [
            "\rRead 1M words\rRead 2M words\rRead 3M words\rRead 3M words\n",
            "Number of words:  41500\n",
            "Number of labels: 3\n",
            "Progress: 100.0% words/sec/thread:  369868 lr:  0.000000 loss:  0.779333 ETA:   0h 0m\n"
          ],
          "name": "stdout"
        }
      ]
    },
    {
      "cell_type": "markdown",
      "metadata": {
        "id": "DIPPaK2G_ktC",
        "colab_type": "text"
      },
      "source": [
        "> Despues de varias pruebas empiricas la red tenia un mejor resultado al usar menos epochs (probe hasta con 1000), unando un solo Ngrama tenia mejor rendimiento y el learning rate en valores entre 0.1 y 0.3 generaba resultados similires.\n",
        "\n"
      ]
    },
    {
      "cell_type": "code",
      "metadata": {
        "id": "vlHy2t01T4hi",
        "colab_type": "code",
        "colab": {
          "base_uri": "https://localhost:8080/",
          "height": 68
        },
        "outputId": "20262257-fb17-47be-feb1-15ccea8a9610"
      },
      "source": [
        "!./fasttext test model_dataFull.bin validationData"
      ],
      "execution_count": 141,
      "outputs": [
        {
          "output_type": "stream",
          "text": [
            "N\t9842\n",
            "P@1\t0.649\n",
            "R@1\t0.649\n"
          ],
          "name": "stdout"
        }
      ]
    },
    {
      "cell_type": "code",
      "metadata": {
        "id": "0x4LD8YgxAxa",
        "colab_type": "code",
        "colab": {}
      },
      "source": [
        "!./fasttext predict model_dataFull.bin testSentences.txt >> /content/test_cls.txt\n",
        "\n"
      ],
      "execution_count": 0,
      "outputs": []
    },
    {
      "cell_type": "markdown",
      "metadata": {
        "id": "VTtegHZ-UtR5",
        "colab_type": "text"
      },
      "source": [
        "\n",
        "\n",
        "> Finalmente se crea un archivo con las predicciones de los labels (contradiccion, implicacion, neutral) que se usa para crear el archivo final result.csv que se sube a kaggle"
      ]
    }
  ]
}